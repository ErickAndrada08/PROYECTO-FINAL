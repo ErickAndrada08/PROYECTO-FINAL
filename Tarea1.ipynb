{
  "metadata": {
    "kernelspec": {
      "name": "xcpp17",
      "display_name": "C++17",
      "language": "cpp"
    },
    "language_info": {
      "codemirror_mode": "text/x-c++src",
      "file_extension": ".cpp",
      "mimetype": "text/x-c++src",
      "name": "C++",
      "version": "17"
    }
  },
  "nbformat_minor": 5,
  "nbformat": 4,
  "cells": [
    {
      "id": "c03d18b6-6d16-4a44-970c-bdc9a0418a66",
      "cell_type": "code",
      "source": "# Data Science Tools and Ecosystem",
      "metadata": {
        "trusted": true
      },
      "outputs": [],
      "execution_count": null
    },
    {
      "id": "2376b9f0-342c-4356-b3f3-579e6499b633",
      "cell_type": "code",
      "source": "In this notebook, Data Science Tools and Ecosystem are summarized.",
      "metadata": {
        "trusted": true
      },
      "outputs": [],
      "execution_count": null
    },
    {
      "id": "b0ab78f4-c15f-4ba0-974d-8521a0c2eb90",
      "cell_type": "code",
      "source": "**Some of the popular languages that Data Scientists use are:**\n1. Python\n2. R\n3. SQL\n4. Julia\n5. Scala",
      "metadata": {
        "trusted": true
      },
      "outputs": [],
      "execution_count": null
    },
    {
      "id": "0498a55f-eec6-437d-8c7e-29e76421d758",
      "cell_type": "code",
      "source": "**Some of the commonly used libraries used by Data Scientists include:**\n1. Pandas\n2. NumPy\n3. Matplotlib\n4. Scikit-learn\n5. TensorFlow",
      "metadata": {
        "trusted": true
      },
      "outputs": [],
      "execution_count": null
    },
    {
      "id": "c731c56b-946e-4ab9-8abe-aaf9c66142ab",
      "cell_type": "code",
      "source": "| Data Science Tools |\n|--------------------|\n| Jupyter Notebook   |\n| RStudio            |\n| Apache Zeppelin    |",
      "metadata": {
        "trusted": true
      },
      "outputs": [],
      "execution_count": null
    },
    {
      "id": "56683fd4-52c9-4173-b6eb-1350339d8a98",
      "cell_type": "code",
      "source": "# Below are a few examples of evaluating arithmetic expressions in Python",
      "metadata": {
        "trusted": true
      },
      "outputs": [],
      "execution_count": null
    },
    {
      "id": "0f7e1874-688f-4041-a5c1-da7a1caf16bb",
      "cell_type": "code",
      "source": "# This is a simple arithmetic expression to multiply then add integers\n(3*4) + 5",
      "metadata": {
        "trusted": true
      },
      "outputs": [],
      "execution_count": null
    },
    {
      "id": "3c03b3b3-174c-498f-ab33-f469987bae13",
      "cell_type": "code",
      "source": "# This will convert 200 minutes to hours by dividing by 60\n200 / 60",
      "metadata": {
        "trusted": true
      },
      "outputs": [],
      "execution_count": null
    },
    {
      "id": "bddb6706-34c1-4ef5-aed9-6411443bde10",
      "cell_type": "code",
      "source": "# Objectives:\nobjectives = [\n    \"List popular languages for Data Science\",\n    \"List commonly used libraries in Data Science\",\n    \"Demonstrate arithmetic operations in Python\",\n    \"Create tables using Markdown\",\n    \"Convert minutes to hours using Python\"\n]\nobjectives",
      "metadata": {
        "trusted": true
      },
      "outputs": [],
      "execution_count": null
    },
    {
      "id": "f1c90b6f-105a-4250-af75-87fef4602b94",
      "cell_type": "code",
      "source": "# Autor\nErick Andrada Yauri",
      "metadata": {
        "trusted": true
      },
      "outputs": [],
      "execution_count": null
    }
  ]
}